{
 "cells": [
  {
   "cell_type": "code",
   "execution_count": 1,
   "metadata": {
    "id": "H9QJmwv4YSbx"
   },
   "outputs": [],
   "source": [
    "import tensorflow as tf\n",
    "from tensorflow.keras import datasets, layers, models\n",
    "from tensorflow.keras.layers import BatchNormalization\n",
    "import matplotlib.pyplot as plt"
   ]
  },
  {
   "cell_type": "code",
   "execution_count": 2,
   "metadata": {
    "colab": {
     "base_uri": "https://localhost:8080/"
    },
    "id": "szOhYfiTYWB7",
    "outputId": "3145facd-b218-4235-a40c-03230bc90dd3"
   },
   "outputs": [
    {
     "name": "stdout",
     "output_type": "stream",
     "text": [
      "Downloading data from https://www.cs.toronto.edu/~kriz/cifar-100-python.tar.gz\n",
      "169001437/169001437 [==============================] - 4s 0us/step\n"
     ]
    }
   ],
   "source": [
    "#download the cifar 100\n",
    "\n",
    "(train_images, train_labels), (test_images, test_labels) = datasets.cifar100.load_data(label_mode='coarse')\n",
    "\n",
    "#normalize the pixel values: 0 - 1\n",
    "train_images = train_images / 255.0\n",
    "\n",
    "test_images = test_images / 255.0"
   ]
  },
  {
   "cell_type": "code",
   "execution_count": 3,
   "metadata": {
    "colab": {
     "base_uri": "https://localhost:8080/"
    },
    "id": "O5-8pNOFYki8",
    "outputId": "7ec33c90-8110-4166-fea8-b0a880bc0fe8"
   },
   "outputs": [
    {
     "data": {
      "text/plain": [
       "(50000, 32, 32, 3)"
      ]
     },
     "execution_count": 3,
     "metadata": {},
     "output_type": "execute_result"
    }
   ],
   "source": [
    "train_images.shape"
   ]
  },
  {
   "cell_type": "code",
   "execution_count": 4,
   "metadata": {
    "colab": {
     "base_uri": "https://localhost:8080/"
    },
    "id": "5N-D51AfY1Fo",
    "outputId": "96127f09-05fe-4fd1-f440-041db5d30b2a"
   },
   "outputs": [
    {
     "data": {
      "text/plain": [
       "(10000, 32, 32, 3)"
      ]
     },
     "execution_count": 4,
     "metadata": {},
     "output_type": "execute_result"
    }
   ],
   "source": [
    "test_images.shape"
   ]
  },
  {
   "cell_type": "code",
   "execution_count": 5,
   "metadata": {
    "colab": {
     "base_uri": "https://localhost:8080/"
    },
    "id": "b0vitzQXY6D3",
    "outputId": "000515c6-6a6c-4d06-eaf4-871afdb6bb64"
   },
   "outputs": [
    {
     "data": {
      "text/plain": [
       "(50000, 1)"
      ]
     },
     "execution_count": 5,
     "metadata": {},
     "output_type": "execute_result"
    }
   ],
   "source": [
    "train_labels.shape"
   ]
  },
  {
   "cell_type": "code",
   "execution_count": 6,
   "metadata": {
    "colab": {
     "base_uri": "https://localhost:8080/"
    },
    "id": "zPHAYgEIZzZg",
    "outputId": "251cf9ee-c87f-4b51-b0fe-f12614e26725"
   },
   "outputs": [
    {
     "data": {
      "text/plain": [
       "(10000, 1)"
      ]
     },
     "execution_count": 6,
     "metadata": {},
     "output_type": "execute_result"
    }
   ],
   "source": [
    "test_labels.shape"
   ]
  },
  {
   "cell_type": "code",
   "execution_count": 7,
   "metadata": {
    "colab": {
     "base_uri": "https://localhost:8080/"
    },
    "id": "KaU1fosSZ5lI",
    "outputId": "5c668335-9af6-4ce9-a211-52242ff55227"
   },
   "outputs": [
    {
     "data": {
      "text/plain": [
       "array([[[1.        , 1.        , 1.        ],\n",
       "        [1.        , 1.        , 1.        ],\n",
       "        [1.        , 1.        , 1.        ],\n",
       "        ...,\n",
       "        [0.76470588, 0.80392157, 0.75686275],\n",
       "        [0.83137255, 0.87843137, 0.8       ],\n",
       "        [0.71372549, 0.76078431, 0.65490196]],\n",
       "\n",
       "       [[1.        , 1.        , 1.        ],\n",
       "        [0.99607843, 0.99607843, 0.99607843],\n",
       "        [0.99607843, 0.99607843, 0.99607843],\n",
       "        ...,\n",
       "        [0.66666667, 0.69019608, 0.58823529],\n",
       "        [0.63137255, 0.65882353, 0.50980392],\n",
       "        [0.57254902, 0.60392157, 0.44313725]],\n",
       "\n",
       "       [[1.        , 1.        , 1.        ],\n",
       "        [0.99607843, 0.99607843, 0.99607843],\n",
       "        [1.        , 1.        , 1.        ],\n",
       "        ...,\n",
       "        [0.74117647, 0.78039216, 0.6627451 ],\n",
       "        [0.65098039, 0.69803922, 0.50980392],\n",
       "        [0.4745098 , 0.52156863, 0.34117647]],\n",
       "\n",
       "       ...,\n",
       "\n",
       "       [[0.58039216, 0.7254902 , 0.30980392],\n",
       "        [0.55686275, 0.71372549, 0.22352941],\n",
       "        [0.54901961, 0.70196078, 0.23529412],\n",
       "        ...,\n",
       "        [0.11764706, 0.06666667, 0.00392157],\n",
       "        [0.25490196, 0.24313725, 0.05882353],\n",
       "        [0.29803922, 0.30196078, 0.07843137]],\n",
       "\n",
       "       [[0.47843137, 0.61568627, 0.25882353],\n",
       "        [0.47058824, 0.60784314, 0.22745098],\n",
       "        [0.49411765, 0.62745098, 0.27843137],\n",
       "        ...,\n",
       "        [0.08627451, 0.0627451 , 0.01176471],\n",
       "        [0.38039216, 0.43921569, 0.21960784],\n",
       "        [0.55294118, 0.63137255, 0.34117647]],\n",
       "\n",
       "       [[0.34117647, 0.47843137, 0.16078431],\n",
       "        [0.34509804, 0.47843137, 0.15294118],\n",
       "        [0.39607843, 0.5254902 , 0.21960784],\n",
       "        ...,\n",
       "        [0.13333333, 0.14117647, 0.03921569],\n",
       "        [0.41176471, 0.52156863, 0.23137255],\n",
       "        [0.54117647, 0.67843137, 0.30980392]]])"
      ]
     },
     "execution_count": 7,
     "metadata": {},
     "output_type": "execute_result"
    }
   ],
   "source": [
    "train_images[0]"
   ]
  },
  {
   "cell_type": "code",
   "execution_count": 8,
   "metadata": {
    "id": "oQMb_DF7alEe"
   },
   "outputs": [],
   "source": [
    "#create a list of class names\n",
    "\n",
    "class_names = ['aquatic mammals\t','fish','flower','food container','fruits and vegetable','electrical devices','household furniture',\n",
    "               'insects','large carnivores','large man made outdoor things','large natural outdoor scenes','large omnivore and herbivore',\n",
    "               'medium sized animals','non insect invertebrates','people','reptiles','small mammals','trees','vehicle 1','vehicle 2']\n"
   ]
  },
  {
   "cell_type": "code",
   "execution_count": 9,
   "metadata": {
    "colab": {
     "base_uri": "https://localhost:8080/",
     "height": 826
    },
    "id": "XDiTgStddWzY",
    "outputId": "3950c6c2-ef54-4152-b315-144d6ab9b847"
   },
   "outputs": [
    {
     "data": {
      "image/png": "[encoded data removed]",
      "text/plain": [
       "<Figure size 1000x1000 with 25 Axes>"
      ]
     },
     "metadata": {},
     "output_type": "display_data"
    }
   ],
   "source": [
    "plt.figure(figsize=(10,10))\n",
    "\n",
    "for i in range(25):\n",
    "  plt.subplot(5,5,i+1)\n",
    "  plt.xticks([])\n",
    "  plt.yticks([])\n",
    "  plt.grid(False)\n",
    "  plt.imshow(train_images[i])\n",
    "  plt.xlabel(class_names[train_labels[i][0]])\n",
    "plt.show()"
   ]
  },
  {
   "cell_type": "markdown",
   "metadata": {
    "id": "txQTEJVs-6_F"
   },
   "source": [
    "arch-1"
   ]
  },
  {
   "cell_type": "code",
   "execution_count": 10,
   "metadata": {
    "id": "t7aeWaNSda2g"
   },
   "outputs": [],
   "source": [
    "#arch-1\n",
    "model = models.Sequential()\n",
    "model.add(layers.Conv2D(32, (3, 3), activation='relu', input_shape=(32, 32, 3)))\n",
    "model.add(layers.MaxPool2D((2, 2)))\n",
    "model.add(layers.Conv2D(64, (3, 3), activation='relu'))\n",
    "model.add(layers.MaxPooling2D((2, 2)))\n",
    "model.add(layers.Conv2D(64, (3, 3), activation='relu'))"
   ]
  },
  {
   "cell_type": "code",
   "execution_count": 11,
   "metadata": {
    "id": "3GuW3txP83pw"
   },
   "outputs": [],
   "source": [
    "#without overfitting\n",
    "model.add(layers.Flatten())\n",
    "model.add(layers.Dense(64, activation='relu'))\n",
    "model.add(layers.Dense(20))"
   ]
  },
  {
   "cell_type": "code",
   "execution_count": 12,
   "metadata": {
    "id": "fWejB3dLgeVT"
   },
   "outputs": [],
   "source": [
    "model.compile(optimizer='adam',\n",
    "               loss= tf.keras.losses.SparseCategoricalCrossentropy(from_logits=True),\n",
    "               metrics=['accuracy'])"
   ]
  },
  {
   "cell_type": "code",
   "execution_count": 13,
   "metadata": {
    "colab": {
     "base_uri": "https://localhost:8080/"
    },
    "id": "21Zuh8j0g75j",
    "outputId": "f90979b9-7d67-4ee3-ddba-971eb3e9eea6"
   },
   "outputs": [
    {
     "name": "stdout",
     "output_type": "stream",
     "text": [
      "Epoch 1/10\n",
      "1563/1563 [==============================] - 18s 4ms/step - loss: 2.4259 - accuracy: 0.2463\n",
      "Epoch 2/10\n",
      "1563/1563 [==============================] - 7s 4ms/step - loss: 2.0554 - accuracy: 0.3639\n",
      "Epoch 3/10\n",
      "1563/1563 [==============================] - 6s 4ms/step - loss: 1.8874 - accuracy: 0.4107\n",
      "Epoch 4/10\n",
      "1563/1563 [==============================] - 7s 4ms/step - loss: 1.7736 - accuracy: 0.4452\n",
      "Epoch 5/10\n",
      "1563/1563 [==============================] - 6s 4ms/step - loss: 1.6818 - accuracy: 0.4729\n",
      "Epoch 6/10\n",
      "1563/1563 [==============================] - 8s 5ms/step - loss: 1.6123 - accuracy: 0.4927\n",
      "Epoch 7/10\n",
      "1563/1563 [==============================] - 7s 5ms/step - loss: 1.5469 - accuracy: 0.5129\n",
      "Epoch 8/10\n",
      "1563/1563 [==============================] - 7s 5ms/step - loss: 1.4887 - accuracy: 0.5314\n",
      "Epoch 9/10\n",
      "1563/1563 [==============================] - 7s 4ms/step - loss: 1.4367 - accuracy: 0.5441\n",
      "Epoch 10/10\n",
      "1563/1563 [==============================] - 6s 4ms/step - loss: 1.3868 - accuracy: 0.5607\n"
     ]
    }
   ],
   "source": [
    "history = model.fit(train_images, train_labels, epochs=10)"
   ]
  },
  {
   "cell_type": "code",
   "execution_count": 14,
   "metadata": {
    "colab": {
     "base_uri": "https://localhost:8080/"
    },
    "id": "onniH5J9isnx",
    "outputId": "5b3964ae-8ba9-4932-b6b5-4deba1056010"
   },
   "outputs": [
    {
     "name": "stdout",
     "output_type": "stream",
     "text": [
      "313/313 [==============================] - 1s 2ms/step - loss: 1.6969 - accuracy: 0.4793\n"
     ]
    }
   ],
   "source": [
    "#Accuracy on test data :\n",
    "test_loss, test_accu = model.evaluate(test_images, test_labels)"
   ]
  },
  {
   "cell_type": "code",
   "execution_count": 15,
   "metadata": {
    "colab": {
     "base_uri": "https://localhost:8080/"
    },
    "id": "ZF6u7P6D9-aq",
    "outputId": "a676b4f0-59b6-438f-ac19-14fffa4386cc"
   },
   "outputs": [
    {
     "name": "stdout",
     "output_type": "stream",
     "text": [
      "1563/1563 [==============================] - 5s 3ms/step - loss: 1.2655 - accuracy: 0.6003\n"
     ]
    }
   ],
   "source": [
    "#Accuraccy on training data:\n",
    "train_loss, train_accu = model.evaluate(train_images, train_labels)"
   ]
  },
  {
   "cell_type": "code",
   "execution_count": 16,
   "metadata": {
    "colab": {
     "base_uri": "https://localhost:8080/"
    },
    "id": "Z9NEXNqt-Nrb",
    "outputId": "387e6066-4739-4148-e7b3-b3054e7a5098"
   },
   "outputs": [
    {
     "name": "stdout",
     "output_type": "stream",
     "text": [
      "313/313 [==============================] - 1s 2ms/step\n"
     ]
    },
    {
     "data": {
      "text/plain": [
       "array([ 1.8391694 ,  0.21717843, -1.9917601 , -3.3339615 , -4.462681  ,\n",
       "       -1.0049031 , -3.7389333 ,  0.85705584, -1.654365  , -0.2434611 ,\n",
       "        1.0787723 , -1.2514966 , -2.3580828 ,  1.5616461 , -2.0195591 ,\n",
       "       -0.6065341 , -1.2563541 ,  0.4319564 , -0.95307606,  0.84366846],\n",
       "      dtype=float32)"
      ]
     },
     "execution_count": 16,
     "metadata": {},
     "output_type": "execute_result"
    }
   ],
   "source": [
    "pred = model.predict(test_images)\n",
    "pred[0]"
   ]
  },
  {
   "cell_type": "code",
   "execution_count": 17,
   "metadata": {
    "colab": {
     "base_uri": "https://localhost:8080/"
    },
    "id": "CFpDTylo-ddp",
    "outputId": "07ef34ad-98f1-4ac9-bcb9-b745b1434eaf"
   },
   "outputs": [
    {
     "data": {
      "text/plain": [
       "0"
      ]
     },
     "execution_count": 17,
     "metadata": {},
     "output_type": "execute_result"
    }
   ],
   "source": [
    "import numpy as np\n",
    "np.argmax(pred[0])"
   ]
  },
  {
   "cell_type": "code",
   "execution_count": 18,
   "metadata": {
    "colab": {
     "base_uri": "https://localhost:8080/"
    },
    "id": "vbTj7e61-jLF",
    "outputId": "e81281e5-ba10-4e50-e218-e6e9255edec9"
   },
   "outputs": [
    {
     "data": {
      "text/plain": [
       "array([10])"
      ]
     },
     "execution_count": 18,
     "metadata": {},
     "output_type": "execute_result"
    }
   ],
   "source": [
    "test_labels[0]"
   ]
  },
  {
   "cell_type": "markdown",
   "metadata": {
    "id": "PcxXmfaJ-167"
   },
   "source": [
    "Arch-2"
   ]
  },
  {
   "cell_type": "code",
   "execution_count": 19,
   "metadata": {
    "id": "0edlPQNO-1QA"
   },
   "outputs": [],
   "source": [
    "model1 = models.Sequential()\n",
    "model1.add(layers.Conv2D(32, (3,3), activation='relu', input_shape=(32, 32, 3)))\n",
    "model1.add(layers.Conv2D(64, (3,3), activation='relu'))\n",
    "model1.add(layers.MaxPooling2D((2,2)))\n",
    "\n",
    "model1.add(layers.Conv2D(128,(3,3), activation='relu'))\n",
    "model1.add(layers.MaxPooling2D((2,2)))\n",
    "\n",
    "model1.add(layers.Conv2D(128, (3,3), activation='relu'))\n",
    "model1.add(layers.Conv2D(256, (3,3), activation='relu'))\n",
    "model1.add(layers.MaxPooling2D((2,2)))\n",
    "\n",
    "model1.add(layers.Flatten())\n",
    "model1.add(layers.Dense(256,activation='relu'))\n",
    "model1.add(layers.Dense(512, activation='relu'))\n",
    "model1.add(layers.Dense(20))"
   ]
  },
  {
   "cell_type": "code",
   "execution_count": 20,
   "metadata": {
    "colab": {
     "base_uri": "https://localhost:8080/"
    },
    "id": "KT5w3WKT_ZOg",
    "outputId": "4cf368a5-d0d7-499a-be7f-005216a75acf"
   },
   "outputs": [
    {
     "name": "stdout",
     "output_type": "stream",
     "text": [
      "Model: \"sequential_1\"\n",
      "_________________________________________________________________\n",
      " Layer (type)                Output Shape              Param #   \n",
      "=================================================================\n",
      " conv2d_3 (Conv2D)           (None, 30, 30, 32)        896       \n",
      "                                                                 \n",
      " conv2d_4 (Conv2D)           (None, 28, 28, 64)        18496     \n",
      "                                                                 \n",
      " max_pooling2d_2 (MaxPooling  (None, 14, 14, 64)       0         \n",
      " 2D)                                                             \n",
      "                                                                 \n",
      " conv2d_5 (Conv2D)           (None, 12, 12, 128)       73856     \n",
      "                                                                 \n",
      " max_pooling2d_3 (MaxPooling  (None, 6, 6, 128)        0         \n",
      " 2D)                                                             \n",
      "                                                                 \n",
      " conv2d_6 (Conv2D)           (None, 4, 4, 128)         147584    \n",
      "                                                                 \n",
      " conv2d_7 (Conv2D)           (None, 2, 2, 256)         295168    \n",
      "                                                                 \n",
      " max_pooling2d_4 (MaxPooling  (None, 1, 1, 256)        0         \n",
      " 2D)                                                             \n",
      "                                                                 \n",
      " flatten_1 (Flatten)         (None, 256)               0         \n",
      "                                                                 \n",
      " dense_2 (Dense)             (None, 256)               65792     \n",
      "                                                                 \n",
      " dense_3 (Dense)             (None, 512)               131584    \n",
      "                                                                 \n",
      " dense_4 (Dense)             (None, 20)                10260     \n",
      "                                                                 \n",
      "=================================================================\n",
      "Total params: 743,636\n",
      "Trainable params: 743,636\n",
      "Non-trainable params: 0\n",
      "_________________________________________________________________\n"
     ]
    }
   ],
   "source": [
    "model1.summary()"
   ]
  },
  {
   "cell_type": "code",
   "execution_count": 21,
   "metadata": {
    "id": "4UJYPF86_hmg"
   },
   "outputs": [],
   "source": [
    "model1.compile(optimizer='adam',\n",
    "               loss= tf.keras.losses.SparseCategoricalCrossentropy(from_logits=True),\n",
    "               metrics=['accuracy'])"
   ]
  },
  {
   "cell_type": "code",
   "execution_count": 22,
   "metadata": {
    "colab": {
     "base_uri": "https://localhost:8080/"
    },
    "id": "3hzcL0F2_rdN",
    "outputId": "d0526afa-b792-4acd-af27-98a521e942e1"
   },
   "outputs": [
    {
     "name": "stdout",
     "output_type": "stream",
     "text": [
      "Epoch 1/10\n",
      "1563/1563 [==============================] - 13s 6ms/step - loss: 2.5681 - accuracy: 0.1937\n",
      "Epoch 2/10\n",
      "1563/1563 [==============================] - 9s 6ms/step - loss: 2.1543 - accuracy: 0.3256\n",
      "Epoch 3/10\n",
      "1563/1563 [==============================] - 9s 6ms/step - loss: 1.9011 - accuracy: 0.4042\n",
      "Epoch 4/10\n",
      "1563/1563 [==============================] - 9s 6ms/step - loss: 1.7228 - accuracy: 0.4554\n",
      "Epoch 5/10\n",
      "1563/1563 [==============================] - 9s 6ms/step - loss: 1.5877 - accuracy: 0.4960\n",
      "Epoch 6/10\n",
      "1563/1563 [==============================] - 9s 6ms/step - loss: 1.4726 - accuracy: 0.5329\n",
      "Epoch 7/10\n",
      "1563/1563 [==============================] - 8s 5ms/step - loss: 1.3690 - accuracy: 0.5623\n",
      "Epoch 8/10\n",
      "1563/1563 [==============================] - 9s 6ms/step - loss: 1.2758 - accuracy: 0.5882\n",
      "Epoch 9/10\n",
      "1563/1563 [==============================] - 9s 6ms/step - loss: 1.1946 - accuracy: 0.6125\n",
      "Epoch 10/10\n",
      "1563/1563 [==============================] - 9s 6ms/step - loss: 1.1084 - accuracy: 0.6401\n"
     ]
    }
   ],
   "source": [
    "history1 = model1.fit(train_images, train_labels, epochs=10)"
   ]
  },
  {
   "cell_type": "code",
   "execution_count": 23,
   "metadata": {
    "colab": {
     "base_uri": "https://localhost:8080/"
    },
    "id": "MB_DwSBZ_vZ5",
    "outputId": "10bfe201-3d50-4f4d-f076-e285a17c68ea"
   },
   "outputs": [
    {
     "name": "stdout",
     "output_type": "stream",
     "text": [
      "313/313 [==============================] - 1s 3ms/step - loss: 1.6554 - accuracy: 0.5112\n"
     ]
    }
   ],
   "source": [
    "#Testing accuracy:\n",
    "test_loss, test_accu = model1.evaluate(test_images, test_labels)"
   ]
  },
  {
   "cell_type": "code",
   "execution_count": 24,
   "metadata": {
    "colab": {
     "base_uri": "https://localhost:8080/"
    },
    "id": "6F3qgTQGBOj3",
    "outputId": "e8152725-802c-44df-aaae-316465df1e1a"
   },
   "outputs": [
    {
     "name": "stdout",
     "output_type": "stream",
     "text": [
      "1563/1563 [==============================] - 6s 4ms/step - loss: 0.9413 - accuracy: 0.6974\n"
     ]
    }
   ],
   "source": [
    "#Training Accuracy\n",
    "train_loss, train_accu = model1.evaluate(train_images, train_labels)"
   ]
  },
  {
   "cell_type": "code",
   "execution_count": 25,
   "metadata": {
    "colab": {
     "base_uri": "https://localhost:8080/"
    },
    "id": "4TvcbErTDDvY",
    "outputId": "a3ad8f27-12c5-4fec-cd94-289712f3e2f7"
   },
   "outputs": [
    {
     "name": "stdout",
     "output_type": "stream",
     "text": [
      "313/313 [==============================] - 1s 2ms/step\n"
     ]
    },
    {
     "data": {
      "text/plain": [
       "array([ 1.8391694 ,  0.21717843, -1.9917601 , -3.3339615 , -4.462681  ,\n",
       "       -1.0049031 , -3.7389333 ,  0.85705584, -1.654365  , -0.2434611 ,\n",
       "        1.0787723 , -1.2514966 , -2.3580828 ,  1.5616461 , -2.0195591 ,\n",
       "       -0.6065341 , -1.2563541 ,  0.4319564 , -0.95307606,  0.84366846],\n",
       "      dtype=float32)"
      ]
     },
     "execution_count": 25,
     "metadata": {},
     "output_type": "execute_result"
    }
   ],
   "source": [
    "pred1 = model.predict(test_images)\n",
    "pred1[0]"
   ]
  },
  {
   "cell_type": "code",
   "execution_count": 26,
   "metadata": {
    "colab": {
     "base_uri": "https://localhost:8080/"
    },
    "id": "Q5t8y0aaDMLx",
    "outputId": "c36fe908-8fa2-43c3-c102-e272dae59604"
   },
   "outputs": [
    {
     "data": {
      "text/plain": [
       "0"
      ]
     },
     "execution_count": 26,
     "metadata": {},
     "output_type": "execute_result"
    }
   ],
   "source": [
    "np.argmax(pred[0])"
   ]
  },
  {
   "cell_type": "code",
   "execution_count": 27,
   "metadata": {
    "colab": {
     "base_uri": "https://localhost:8080/"
    },
    "id": "eF95GgFsDSxA",
    "outputId": "1442a01d-47e1-4fe4-f221-27d3ea0059a1"
   },
   "outputs": [
    {
     "data": {
      "text/plain": [
       "array([10])"
      ]
     },
     "execution_count": 27,
     "metadata": {},
     "output_type": "execute_result"
    }
   ],
   "source": [
    "test_labels[0]"
   ]
  },
  {
   "cell_type": "markdown",
   "metadata": {
    "id": "jsVuUjkADtYI"
   },
   "source": [
    "Tunning"
   ]
  },
  {
   "cell_type": "code",
   "execution_count": 28,
   "metadata": {
    "colab": {
     "base_uri": "https://localhost:8080/"
    },
    "id": "7kdejTAFDcRZ",
    "outputId": "edf623de-740b-4f1e-b603-ca4867824aa5"
   },
   "outputs": [
    {
     "name": "stdout",
     "output_type": "stream",
     "text": [
      "\u001b[?25l     \u001b[90m━━━━━━━━━━━━━━━━━━━━━━━━━━━━━━━━━━━━━━━━\u001b[0m \u001b[32m0.0/176.1 kB\u001b[0m \u001b[31m?\u001b[0m eta \u001b[36m-:--:--\u001b[0m\r",
      "\u001b[2K     \u001b[91m━━━━━━━━━━━━━━━━━━━━━━━━━━━\u001b[0m\u001b[90m╺\u001b[0m\u001b[90m━━━━━━━━━━━\u001b[0m \u001b[32m122.9/176.1 kB\u001b[0m \u001b[31m4.0 MB/s\u001b[0m eta \u001b[36m0:00:01\u001b[0m\r",
      "\u001b[2K     \u001b[90m━━━━━━━━━━━━━━━━━━━━━━━━━━━━━━━━━━━━━━━\u001b[0m \u001b[32m176.1/176.1 kB\u001b[0m \u001b[31m4.1 MB/s\u001b[0m eta \u001b[36m0:00:00\u001b[0m\n",
      "\u001b[?25h"
     ]
    }
   ],
   "source": [
    "import tensorflow as tf\n",
    "from tensorflow import keras\n",
    "!pip install -q -U keras-tuner\n",
    "import keras_tuner as kt"
   ]
  },
  {
   "cell_type": "code",
   "execution_count": 29,
   "metadata": {
    "id": "ReHs0QpgD2Uq"
   },
   "outputs": [],
   "source": [
    "from keras import layers\n",
    "from keras.layers import BatchNormalization\n",
    "from keras import regularizers\n",
    "\n",
    "def model_builder(hp):\n",
    "  model = keras.Sequential()\n",
    "  #adding input layer\n",
    "  model.add(layers.Conv2D(32, (3, 3), activation='relu', input_shape=(32, 32, 3)))\n",
    "  model.add(keras.layers.Flatten())\n",
    "\n",
    "  #tune the no of units in the first Dense Layer\n",
    "  #choose an optimal value between 32-512\n",
    "  hp_units = hp.Int('units', min_value=32, max_value=512)\n",
    "  model.add(keras.layers.Dense(units=hp_units, activation='relu', kernel_regularizer=regularizers.l2(0.01)))\n",
    "  #model.add(BatchNormalization())   #updated\n",
    "  model.add(keras.layers.Dropout(0.5))  #updated\n",
    "\n",
    "  model.add(keras.layers.Dense(20)) #output layer\n",
    "\n",
    "  #tune the learning rate for the optimizer\n",
    "  #choose an ptimal value from 0.01, 0.001, or 0.0001\n",
    "  hp_learning_rate = hp.Choice('learning_rate', values=[1e-2,1e-3,1e-4])\n",
    "\n",
    "  model.compile(optimizer = keras.optimizers.Adam(learning_rate = hp_learning_rate),\n",
    "                loss = keras.losses.SparseCategoricalCrossentropy(from_logits=True),\n",
    "                metrics=['accuracy'])\n",
    "  return model"
   ]
  },
  {
   "cell_type": "code",
   "execution_count": 30,
   "metadata": {
    "id": "dFqDt0NmECZD"
   },
   "outputs": [],
   "source": [
    "tuner = kt.Hyperband(model_builder,objective='val_accuracy',\n",
    "                   max_epochs=10,\n",
    "                   factor=4,overwrite=True,\n",
    "                   directory='my_dir',\n",
    "                   project_name='intro_to_kt')"
   ]
  },
  {
   "cell_type": "code",
   "execution_count": 31,
   "metadata": {
    "id": "8hW2Rtg9EFOx"
   },
   "outputs": [],
   "source": [
    "stop_early = tf.keras.callbacks.EarlyStopping(monitor='val_loss',patience=5)"
   ]
  },
  {
   "cell_type": "code",
   "execution_count": 32,
   "metadata": {
    "id": "Kr0YJxwNEWiR"
   },
   "outputs": [],
   "source": [
    "tuner.search(train_images,train_labels,epochs=50,validation_split=0.2,callbacks=[stop_early])"
   ]
  },
  {
   "cell_type": "code",
   "execution_count": 33,
   "metadata": {
    "colab": {
     "base_uri": "https://localhost:8080/"
    },
    "id": "EsZtV5NbEXtk",
    "outputId": "97471b14-7ab6-4c71-da7f-7e07455a4154"
   },
   "outputs": [
    {
     "name": "stdout",
     "output_type": "stream",
     "text": [
      "441\n",
      "0.0001\n"
     ]
    }
   ],
   "source": [
    "#Get the optimal hyperparameters\n",
    "best_hps = tuner.get_best_hyperparameters(num_trials=1)[0]\n",
    "\n",
    "print(best_hps.get('units'))\n",
    "print(best_hps.get('learning_rate'))"
   ]
  },
  {
   "cell_type": "code",
   "execution_count": 34,
   "metadata": {
    "colab": {
     "base_uri": "https://localhost:8080/"
    },
    "id": "c_Ha9qb3FPVm",
    "outputId": "e68ed16b-572e-46ea-86a3-7ee6b4b1b556"
   },
   "outputs": [
    {
     "name": "stdout",
     "output_type": "stream",
     "text": [
      "Epoch 1/50\n",
      "1250/1250 [==============================] - 13s 9ms/step - loss: 3.6125 - accuracy: 0.1649 - val_loss: 2.7007 - val_accuracy: 0.2181\n",
      "Epoch 2/50\n",
      "1250/1250 [==============================] - 18s 14ms/step - loss: 2.6939 - accuracy: 0.2114 - val_loss: 2.5964 - val_accuracy: 0.2619\n",
      "Epoch 3/50\n",
      "1250/1250 [==============================] - 9s 7ms/step - loss: 2.6375 - accuracy: 0.2277 - val_loss: 2.5501 - val_accuracy: 0.2666\n",
      "Epoch 4/50\n",
      "1250/1250 [==============================] - 9s 7ms/step - loss: 2.6030 - accuracy: 0.2387 - val_loss: 2.5217 - val_accuracy: 0.2855\n",
      "Epoch 5/50\n",
      "1250/1250 [==============================] - 9s 7ms/step - loss: 2.5723 - accuracy: 0.2503 - val_loss: 2.4907 - val_accuracy: 0.2876\n",
      "Epoch 6/50\n",
      "1250/1250 [==============================] - 9s 7ms/step - loss: 2.5488 - accuracy: 0.2561 - val_loss: 2.4809 - val_accuracy: 0.2902\n",
      "Epoch 7/50\n",
      "1250/1250 [==============================] - 8s 7ms/step - loss: 2.5305 - accuracy: 0.2666 - val_loss: 2.4491 - val_accuracy: 0.3030\n",
      "Epoch 8/50\n",
      "1250/1250 [==============================] - 9s 7ms/step - loss: 2.5131 - accuracy: 0.2726 - val_loss: 2.4329 - val_accuracy: 0.3040\n",
      "Epoch 9/50\n",
      "1250/1250 [==============================] - 9s 7ms/step - loss: 2.4935 - accuracy: 0.2768 - val_loss: 2.4091 - val_accuracy: 0.3186\n",
      "Epoch 10/50\n",
      "1250/1250 [==============================] - 8s 7ms/step - loss: 2.4874 - accuracy: 0.2829 - val_loss: 2.4113 - val_accuracy: 0.3224\n",
      "Epoch 11/50\n",
      "1250/1250 [==============================] - 9s 7ms/step - loss: 2.4729 - accuracy: 0.2905 - val_loss: 2.3804 - val_accuracy: 0.3309\n",
      "Epoch 12/50\n",
      "1250/1250 [==============================] - 9s 7ms/step - loss: 2.4650 - accuracy: 0.2923 - val_loss: 2.3690 - val_accuracy: 0.3375\n",
      "Epoch 13/50\n",
      "1250/1250 [==============================] - 10s 8ms/step - loss: 2.4509 - accuracy: 0.2980 - val_loss: 2.3670 - val_accuracy: 0.3367\n",
      "Epoch 14/50\n",
      "1250/1250 [==============================] - 9s 7ms/step - loss: 2.4421 - accuracy: 0.3026 - val_loss: 2.3570 - val_accuracy: 0.3412\n",
      "Epoch 15/50\n",
      "1250/1250 [==============================] - 9s 7ms/step - loss: 2.4320 - accuracy: 0.3065 - val_loss: 2.3522 - val_accuracy: 0.3378\n",
      "Epoch 16/50\n",
      "1250/1250 [==============================] - 9s 7ms/step - loss: 2.4212 - accuracy: 0.3107 - val_loss: 2.3428 - val_accuracy: 0.3458\n",
      "Epoch 17/50\n",
      "1250/1250 [==============================] - 9s 7ms/step - loss: 2.4160 - accuracy: 0.3141 - val_loss: 2.3320 - val_accuracy: 0.3513\n",
      "Epoch 18/50\n",
      "1250/1250 [==============================] - 9s 7ms/step - loss: 2.4095 - accuracy: 0.3156 - val_loss: 2.3210 - val_accuracy: 0.3546\n",
      "Epoch 19/50\n",
      "1250/1250 [==============================] - 9s 7ms/step - loss: 2.4003 - accuracy: 0.3207 - val_loss: 2.3188 - val_accuracy: 0.3569\n",
      "Epoch 20/50\n",
      "1250/1250 [==============================] - 9s 7ms/step - loss: 2.3937 - accuracy: 0.3230 - val_loss: 2.3330 - val_accuracy: 0.3480\n",
      "Epoch 21/50\n",
      "1250/1250 [==============================] - 8s 7ms/step - loss: 2.3901 - accuracy: 0.3232 - val_loss: 2.3225 - val_accuracy: 0.3565\n",
      "Epoch 22/50\n",
      "1250/1250 [==============================] - 9s 7ms/step - loss: 2.3843 - accuracy: 0.3268 - val_loss: 2.3041 - val_accuracy: 0.3606\n",
      "Epoch 23/50\n",
      "1250/1250 [==============================] - 9s 7ms/step - loss: 2.3777 - accuracy: 0.3254 - val_loss: 2.3128 - val_accuracy: 0.3533\n",
      "Epoch 24/50\n",
      "1250/1250 [==============================] - 9s 7ms/step - loss: 2.3760 - accuracy: 0.3296 - val_loss: 2.2947 - val_accuracy: 0.3619\n",
      "Epoch 25/50\n",
      "1250/1250 [==============================] - 9s 7ms/step - loss: 2.3657 - accuracy: 0.3338 - val_loss: 2.3030 - val_accuracy: 0.3617\n",
      "Epoch 26/50\n",
      "1250/1250 [==============================] - 9s 7ms/step - loss: 2.3648 - accuracy: 0.3336 - val_loss: 2.3054 - val_accuracy: 0.3648\n",
      "Epoch 27/50\n",
      "1250/1250 [==============================] - 9s 7ms/step - loss: 2.3620 - accuracy: 0.3350 - val_loss: 2.2974 - val_accuracy: 0.3646\n",
      "Epoch 28/50\n",
      "1250/1250 [==============================] - 9s 7ms/step - loss: 2.3544 - accuracy: 0.3370 - val_loss: 2.2846 - val_accuracy: 0.3725\n",
      "Epoch 29/50\n",
      "1250/1250 [==============================] - 9s 7ms/step - loss: 2.3564 - accuracy: 0.3367 - val_loss: 2.2897 - val_accuracy: 0.3622\n",
      "Epoch 30/50\n",
      "1250/1250 [==============================] - 9s 7ms/step - loss: 2.3495 - accuracy: 0.3413 - val_loss: 2.2823 - val_accuracy: 0.3701\n",
      "Epoch 31/50\n",
      "1250/1250 [==============================] - 9s 7ms/step - loss: 2.3475 - accuracy: 0.3439 - val_loss: 2.2804 - val_accuracy: 0.3708\n",
      "Epoch 32/50\n",
      "1250/1250 [==============================] - 9s 7ms/step - loss: 2.3430 - accuracy: 0.3402 - val_loss: 2.2681 - val_accuracy: 0.3714\n",
      "Epoch 33/50\n",
      "1250/1250 [==============================] - 9s 7ms/step - loss: 2.3411 - accuracy: 0.3438 - val_loss: 2.2726 - val_accuracy: 0.3677\n",
      "Epoch 34/50\n",
      "1250/1250 [==============================] - 9s 7ms/step - loss: 2.3401 - accuracy: 0.3454 - val_loss: 2.2781 - val_accuracy: 0.3759\n",
      "Epoch 35/50\n",
      "1250/1250 [==============================] - 8s 7ms/step - loss: 2.3321 - accuracy: 0.3507 - val_loss: 2.2695 - val_accuracy: 0.3761\n",
      "Epoch 36/50\n",
      "1250/1250 [==============================] - 9s 7ms/step - loss: 2.3273 - accuracy: 0.3507 - val_loss: 2.2750 - val_accuracy: 0.3680\n",
      "Epoch 37/50\n",
      "1250/1250 [==============================] - 9s 7ms/step - loss: 2.3237 - accuracy: 0.3523 - val_loss: 2.2735 - val_accuracy: 0.3763\n",
      "Epoch 38/50\n",
      "1250/1250 [==============================] - 9s 7ms/step - loss: 2.3261 - accuracy: 0.3503 - val_loss: 2.2772 - val_accuracy: 0.3675\n",
      "Epoch 39/50\n",
      "1250/1250 [==============================] - 9s 7ms/step - loss: 2.3213 - accuracy: 0.3528 - val_loss: 2.2592 - val_accuracy: 0.3758\n",
      "Epoch 40/50\n",
      "1250/1250 [==============================] - 9s 7ms/step - loss: 2.3158 - accuracy: 0.3546 - val_loss: 2.2626 - val_accuracy: 0.3767\n",
      "Epoch 41/50\n",
      "1250/1250 [==============================] - 9s 7ms/step - loss: 2.3183 - accuracy: 0.3529 - val_loss: 2.2503 - val_accuracy: 0.3804\n",
      "Epoch 42/50\n",
      "1250/1250 [==============================] - 9s 7ms/step - loss: 2.3131 - accuracy: 0.3567 - val_loss: 2.2522 - val_accuracy: 0.3785\n",
      "Epoch 43/50\n",
      "1250/1250 [==============================] - 9s 7ms/step - loss: 2.3124 - accuracy: 0.3564 - val_loss: 2.2574 - val_accuracy: 0.3773\n",
      "Epoch 44/50\n",
      "1250/1250 [==============================] - 9s 7ms/step - loss: 2.3110 - accuracy: 0.3553 - val_loss: 2.2700 - val_accuracy: 0.3808\n",
      "Epoch 45/50\n",
      "1250/1250 [==============================] - 9s 7ms/step - loss: 2.3037 - accuracy: 0.3589 - val_loss: 2.2571 - val_accuracy: 0.3851\n",
      "Epoch 46/50\n",
      "1250/1250 [==============================] - 9s 7ms/step - loss: 2.3031 - accuracy: 0.3597 - val_loss: 2.2516 - val_accuracy: 0.3855\n",
      "Epoch 47/50\n",
      "1250/1250 [==============================] - 9s 7ms/step - loss: 2.2992 - accuracy: 0.3629 - val_loss: 2.2647 - val_accuracy: 0.3820\n",
      "Epoch 48/50\n",
      "1250/1250 [==============================] - 9s 7ms/step - loss: 2.3003 - accuracy: 0.3624 - val_loss: 2.2514 - val_accuracy: 0.3846\n",
      "Epoch 49/50\n",
      "1250/1250 [==============================] - 8s 7ms/step - loss: 2.2921 - accuracy: 0.3654 - val_loss: 2.2540 - val_accuracy: 0.3805\n",
      "Epoch 50/50\n",
      "1250/1250 [==============================] - 9s 7ms/step - loss: 2.2921 - accuracy: 0.3654 - val_loss: 2.2582 - val_accuracy: 0.3803\n",
      "Best epoch: 46\n"
     ]
    }
   ],
   "source": [
    "model = tuner.hypermodel.build(best_hps)\n",
    "newmodel = model.fit(train_images,train_labels, epochs=50, validation_split=0.2)\n",
    "\n",
    "val_acc_per_epoch = newmodel.history['val_accuracy']\n",
    "best_epoch = val_acc_per_epoch.index(max(val_acc_per_epoch))+1\n",
    "print('Best epoch: %d'%(best_epoch,))"
   ]
  },
  {
   "cell_type": "code",
   "execution_count": 36,
   "metadata": {
    "colab": {
     "base_uri": "https://localhost:8080/"
    },
    "id": "w2xkwzmfFcRg",
    "outputId": "8fb7ae78-3b73-4f48-835d-6a052a242f32"
   },
   "outputs": [
    {
     "name": "stdout",
     "output_type": "stream",
     "text": [
      "Epoch 1/46\n",
      "1563/1563 [==============================] - 18s 11ms/step - loss: 3.4383 - accuracy: 0.1626 - val_loss: 2.6752 - val_accuracy: 0.2294\n",
      "Epoch 2/46\n",
      "1563/1563 [==============================] - 12s 8ms/step - loss: 2.6862 - accuracy: 0.2071 - val_loss: 2.5883 - val_accuracy: 0.2571\n",
      "Epoch 3/46\n",
      "1563/1563 [==============================] - 13s 9ms/step - loss: 2.6297 - accuracy: 0.2231 - val_loss: 2.5575 - val_accuracy: 0.2662\n",
      "Epoch 4/46\n",
      "1563/1563 [==============================] - 12s 8ms/step - loss: 2.5899 - accuracy: 0.2352 - val_loss: 2.5110 - val_accuracy: 0.2694\n",
      "Epoch 5/46\n",
      "1563/1563 [==============================] - 12s 7ms/step - loss: 2.5626 - accuracy: 0.2427 - val_loss: 2.4840 - val_accuracy: 0.2740\n",
      "Epoch 6/46\n",
      "1563/1563 [==============================] - 11s 7ms/step - loss: 2.5419 - accuracy: 0.2504 - val_loss: 2.4560 - val_accuracy: 0.2837\n",
      "Epoch 7/46\n",
      "1563/1563 [==============================] - 11s 7ms/step - loss: 2.5224 - accuracy: 0.2585 - val_loss: 2.4378 - val_accuracy: 0.2949\n",
      "Epoch 8/46\n",
      "1563/1563 [==============================] - 11s 7ms/step - loss: 2.5096 - accuracy: 0.2623 - val_loss: 2.4358 - val_accuracy: 0.2908\n",
      "Epoch 9/46\n",
      "1563/1563 [==============================] - 11s 7ms/step - loss: 2.4925 - accuracy: 0.2688 - val_loss: 2.4121 - val_accuracy: 0.2991\n",
      "Epoch 10/46\n",
      "1563/1563 [==============================] - 12s 8ms/step - loss: 2.4819 - accuracy: 0.2747 - val_loss: 2.3996 - val_accuracy: 0.2998\n",
      "Epoch 11/46\n",
      "1563/1563 [==============================] - 12s 8ms/step - loss: 2.4721 - accuracy: 0.2782 - val_loss: 2.3958 - val_accuracy: 0.3075\n",
      "Epoch 12/46\n",
      "1563/1563 [==============================] - 12s 8ms/step - loss: 2.4588 - accuracy: 0.2827 - val_loss: 2.3703 - val_accuracy: 0.3149\n",
      "Epoch 13/46\n",
      "1563/1563 [==============================] - 12s 8ms/step - loss: 2.4523 - accuracy: 0.2843 - val_loss: 2.3798 - val_accuracy: 0.3167\n",
      "Epoch 14/46\n",
      "1563/1563 [==============================] - 12s 7ms/step - loss: 2.4439 - accuracy: 0.2869 - val_loss: 2.3563 - val_accuracy: 0.3196\n",
      "Epoch 15/46\n",
      "1563/1563 [==============================] - 12s 8ms/step - loss: 2.4310 - accuracy: 0.2925 - val_loss: 2.3530 - val_accuracy: 0.3225\n",
      "Epoch 16/46\n",
      "1563/1563 [==============================] - 11s 7ms/step - loss: 2.4262 - accuracy: 0.2973 - val_loss: 2.3519 - val_accuracy: 0.3287\n",
      "Epoch 17/46\n",
      "1563/1563 [==============================] - 12s 7ms/step - loss: 2.4177 - accuracy: 0.3011 - val_loss: 2.3460 - val_accuracy: 0.3305\n",
      "Epoch 18/46\n",
      "1563/1563 [==============================] - 12s 8ms/step - loss: 2.4070 - accuracy: 0.3005 - val_loss: 2.3260 - val_accuracy: 0.3418\n",
      "Epoch 19/46\n",
      "1563/1563 [==============================] - 12s 7ms/step - loss: 2.3998 - accuracy: 0.3058 - val_loss: 2.3192 - val_accuracy: 0.3375\n",
      "Epoch 20/46\n",
      "1563/1563 [==============================] - 12s 8ms/step - loss: 2.3949 - accuracy: 0.3095 - val_loss: 2.3165 - val_accuracy: 0.3355\n",
      "Epoch 21/46\n",
      "1563/1563 [==============================] - 11s 7ms/step - loss: 2.3928 - accuracy: 0.3073 - val_loss: 2.3067 - val_accuracy: 0.3435\n",
      "Epoch 22/46\n",
      "1563/1563 [==============================] - 11s 7ms/step - loss: 2.3813 - accuracy: 0.3121 - val_loss: 2.3128 - val_accuracy: 0.3309\n",
      "Epoch 23/46\n",
      "1563/1563 [==============================] - 12s 7ms/step - loss: 2.3830 - accuracy: 0.3120 - val_loss: 2.3057 - val_accuracy: 0.3439\n",
      "Epoch 24/46\n",
      "1563/1563 [==============================] - 12s 7ms/step - loss: 2.3757 - accuracy: 0.3164 - val_loss: 2.2878 - val_accuracy: 0.3541\n",
      "Epoch 25/46\n",
      "1563/1563 [==============================] - 11s 7ms/step - loss: 2.3700 - accuracy: 0.3181 - val_loss: 2.2846 - val_accuracy: 0.3485\n",
      "Epoch 26/46\n",
      "1563/1563 [==============================] - 11s 7ms/step - loss: 2.3652 - accuracy: 0.3205 - val_loss: 2.2845 - val_accuracy: 0.3492\n",
      "Epoch 27/46\n",
      "1563/1563 [==============================] - 11s 7ms/step - loss: 2.3634 - accuracy: 0.3233 - val_loss: 2.2757 - val_accuracy: 0.3459\n",
      "Epoch 28/46\n",
      "1563/1563 [==============================] - 12s 7ms/step - loss: 2.3564 - accuracy: 0.3238 - val_loss: 2.2791 - val_accuracy: 0.3579\n",
      "Epoch 29/46\n",
      "1563/1563 [==============================] - 12s 7ms/step - loss: 2.3549 - accuracy: 0.3262 - val_loss: 2.2785 - val_accuracy: 0.3501\n",
      "Epoch 30/46\n",
      "1563/1563 [==============================] - 11s 7ms/step - loss: 2.3507 - accuracy: 0.3273 - val_loss: 2.2696 - val_accuracy: 0.3578\n",
      "Epoch 31/46\n",
      "1563/1563 [==============================] - 12s 7ms/step - loss: 2.3440 - accuracy: 0.3284 - val_loss: 2.2687 - val_accuracy: 0.3520\n",
      "Epoch 32/46\n",
      "1563/1563 [==============================] - 12s 7ms/step - loss: 2.3413 - accuracy: 0.3318 - val_loss: 2.2750 - val_accuracy: 0.3540\n",
      "Epoch 33/46\n",
      "1563/1563 [==============================] - 12s 7ms/step - loss: 2.3372 - accuracy: 0.3319 - val_loss: 2.2613 - val_accuracy: 0.3574\n",
      "Epoch 34/46\n",
      "1563/1563 [==============================] - 11s 7ms/step - loss: 2.3375 - accuracy: 0.3336 - val_loss: 2.2539 - val_accuracy: 0.3697\n",
      "Epoch 35/46\n",
      "1563/1563 [==============================] - 11s 7ms/step - loss: 2.3302 - accuracy: 0.3365 - val_loss: 2.2793 - val_accuracy: 0.3545\n",
      "Epoch 36/46\n",
      "1563/1563 [==============================] - 12s 7ms/step - loss: 2.3295 - accuracy: 0.3353 - val_loss: 2.2423 - val_accuracy: 0.3668\n",
      "Epoch 37/46\n",
      "1563/1563 [==============================] - 11s 7ms/step - loss: 2.3258 - accuracy: 0.3376 - val_loss: 2.2501 - val_accuracy: 0.3619\n",
      "Epoch 38/46\n",
      "1563/1563 [==============================] - 11s 7ms/step - loss: 2.3283 - accuracy: 0.3358 - val_loss: 2.2466 - val_accuracy: 0.3707\n",
      "Epoch 39/46\n",
      "1563/1563 [==============================] - 12s 7ms/step - loss: 2.3207 - accuracy: 0.3387 - val_loss: 2.2544 - val_accuracy: 0.3628\n",
      "Epoch 40/46\n",
      "1563/1563 [==============================] - 12s 7ms/step - loss: 2.3171 - accuracy: 0.3394 - val_loss: 2.2481 - val_accuracy: 0.3688\n",
      "Epoch 41/46\n",
      "1563/1563 [==============================] - 12s 8ms/step - loss: 2.3149 - accuracy: 0.3415 - val_loss: 2.2316 - val_accuracy: 0.3680\n",
      "Epoch 42/46\n",
      "1563/1563 [==============================] - 12s 8ms/step - loss: 2.3160 - accuracy: 0.3404 - val_loss: 2.2358 - val_accuracy: 0.3720\n",
      "Epoch 43/46\n",
      "1563/1563 [==============================] - 11s 7ms/step - loss: 2.3069 - accuracy: 0.3428 - val_loss: 2.2224 - val_accuracy: 0.3699\n",
      "Epoch 44/46\n",
      "1563/1563 [==============================] - 11s 7ms/step - loss: 2.3008 - accuracy: 0.3443 - val_loss: 2.2256 - val_accuracy: 0.3712\n",
      "Epoch 45/46\n",
      "1563/1563 [==============================] - 12s 7ms/step - loss: 2.3027 - accuracy: 0.3459 - val_loss: 2.2334 - val_accuracy: 0.3719\n",
      "Epoch 46/46\n",
      "1563/1563 [==============================] - 11s 7ms/step - loss: 2.3013 - accuracy: 0.3480 - val_loss: 2.2228 - val_accuracy: 0.3735\n"
     ]
    }
   ],
   "source": [
    "hypermodel = tuner.hypermodel.build(best_hps)\n",
    "history2 = hypermodel.fit(train_images, train_labels, epochs=best_epoch, validation_split=0.2, validation_data=(test_images,test_labels))"
   ]
  },
  {
   "cell_type": "code",
   "execution_count": 37,
   "metadata": {
    "colab": {
     "base_uri": "https://localhost:8080/"
    },
    "id": "Hk04IqVOFcT-",
    "outputId": "1aed5790-87ff-4749-f097-ccc29e496f29"
   },
   "outputs": [
    {
     "name": "stdout",
     "output_type": "stream",
     "text": [
      "313/313 [==============================] - 1s 3ms/step - loss: 2.2228 - accuracy: 0.3735\n",
      "[test_loss, test_accuracy]: [2.2227938175201416, 0.3734999895095825]\n"
     ]
    }
   ],
   "source": [
    "eval_result = hypermodel.evaluate(test_images,test_labels)\n",
    "print('[test_loss, test_accuracy]:',eval_result)"
   ]
  },
  {
   "cell_type": "code",
   "execution_count": 42,
   "metadata": {
    "colab": {
     "base_uri": "https://localhost:8080/"
    },
    "id": "V3OUGNjsS8Mm",
    "outputId": "402c6979-685e-4937-d800-9ff7a87fffe3"
   },
   "outputs": [
    {
     "name": "stdout",
     "output_type": "stream",
     "text": [
      "313/313 [==============================] - 1s 3ms/step\n"
     ]
    }
   ],
   "source": [
    "pred2 = hypermodel.predict(test_images)"
   ]
  },
  {
   "cell_type": "code",
   "execution_count": 43,
   "metadata": {
    "colab": {
     "base_uri": "https://localhost:8080/"
    },
    "id": "UYfIqAnWS8PQ",
    "outputId": "f44850a7-7c33-4927-e553-cb76a79062f1"
   },
   "outputs": [
    {
     "data": {
      "text/plain": [
       "9"
      ]
     },
     "execution_count": 43,
     "metadata": {},
     "output_type": "execute_result"
    }
   ],
   "source": [
    "np.argmax(pred2[0])"
   ]
  },
  {
   "cell_type": "code",
   "execution_count": 44,
   "metadata": {
    "colab": {
     "base_uri": "https://localhost:8080/"
    },
    "id": "SbswAyNPS8ST",
    "outputId": "dec1c926-b12b-4c9e-f5c8-39b32f060325"
   },
   "outputs": [
    {
     "data": {
      "text/plain": [
       "array([10])"
      ]
     },
     "execution_count": 44,
     "metadata": {},
     "output_type": "execute_result"
    }
   ],
   "source": [
    "test_labels[0]"
   ]
  },
  {
   "cell_type": "code",
   "execution_count": 45,
   "metadata": {
    "colab": {
     "base_uri": "https://localhost:8080/"
    },
    "id": "8zneyu8_S8Vc",
    "outputId": "9b5cb516-8038-4b60-fd81-c30dc16cc64b"
   },
   "outputs": [
    {
     "data": {
      "text/plain": [
       "array([-1.296439  , -0.27897114, -1.681537  ,  0.06398245, -3.0125124 ,\n",
       "        2.0151088 ,  2.3769085 , -5.608411  , -2.6921113 ,  2.929484  ,\n",
       "        0.8231349 ,  0.13721989, -1.6114235 , -3.411766  , -0.6171796 ,\n",
       "       -3.183984  , -1.3315902 , -0.97486526, -2.6935081 , -0.1820412 ],\n",
       "      dtype=float32)"
      ]
     },
     "execution_count": 45,
     "metadata": {},
     "output_type": "execute_result"
    }
   ],
   "source": [
    "pred[10]"
   ]
  },
  {
   "cell_type": "code",
   "execution_count": null,
   "metadata": {
    "id": "tuVPWVoFS8gw"
   },
   "outputs": [],
   "source": []
  }
 ],
 "metadata": {
  "accelerator": "GPU",
  "colab": {
   "provenance": []
  },
  "kernelspec": {
   "display_name": "Python 3 (ipykernel)",
   "language": "python",
   "name": "python3"
  },
  "language_info": {
   "codemirror_mode": {
    "name": "ipython",
    "version": 3
   },
   "file_extension": ".py",
   "mimetype": "text/x-python",
   "name": "python",
   "nbconvert_exporter": "python",
   "pygments_lexer": "ipython3",
   "version": "3.9.12"
  }
 },
 "nbformat": 4,
 "nbformat_minor": 1
}
